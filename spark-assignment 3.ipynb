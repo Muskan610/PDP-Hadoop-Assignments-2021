{
 "cells": [
  {
   "cell_type": "code",
   "execution_count": 1,
   "id": "11edef17-bc4a-43e7-b21e-c4440166e87d",
   "metadata": {},
   "outputs": [],
   "source": [
    "#!pip install pyspark\n",
    "#!pip install findspark"
   ]
  },
  {
   "cell_type": "code",
   "execution_count": 2,
   "id": "8a11a1ae-e55c-4990-8368-151c51db7b8a",
   "metadata": {},
   "outputs": [],
   "source": [
    "import pyspark\n",
    "import findspark\n",
    "from pyspark.sql import *\n",
    "from pyspark.sql.types import *\n",
    "from pyspark.sql.functions import *\n",
    "\n"
   ]
  },
  {
   "cell_type": "code",
   "execution_count": 3,
   "id": "ebf307d1-81e7-4a2e-9ff2-d03c08fe4d9c",
   "metadata": {},
   "outputs": [
    {
     "data": {
      "text/plain": [
       "'c:\\\\Users\\\\mbhat\\\\anaconda3\\\\Lib\\\\site-packages\\\\spark-3.1.2-bin-hadoop3.2'"
      ]
     },
     "execution_count": 3,
     "metadata": {},
     "output_type": "execute_result"
    }
   ],
   "source": [
    "findspark.init(r\"c:\\Users\\mbhat\\anaconda3\\Lib\\site-packages\\spark-3.1.2-bin-hadoop3.2\")\n",
    "findspark.find()"
   ]
  },
  {
   "cell_type": "code",
   "execution_count": 4,
   "id": "40409084-1d99-4135-92e3-dc8253479496",
   "metadata": {},
   "outputs": [],
   "source": [
    "#build the sparkSession\n",
    "spark =  SparkSession.builder \\\n",
    "    .master(\"local\") \\\n",
    "    .appName(\"Linear Regression Model\") \\\n",
    "    .config(\"spark.executor.memory\", \"1gb\") \\\n",
    "    .getOrCreate()\n",
    "\n",
    "sc = spark.sparkContext\n"
   ]
  },
  {
   "cell_type": "code",
   "execution_count": 5,
   "id": "3e868fe7-eef1-4f8b-92f1-01832395b72a",
   "metadata": {},
   "outputs": [
    {
     "name": "stdout",
     "output_type": "stream",
     "text": [
      "+--------+------+--------------------+------+---+-----------------------+-----------------------+-------+\n",
      "|Survived|PClass|                Name|   Sex|Age|Siblings/Spouses Aboard|Parents/Children Aboard|   Fare|\n",
      "+--------+------+--------------------+------+---+-----------------------+-----------------------+-------+\n",
      "|       0|     3|Mr. Owen Harris B...|  male| 22|                      1|                      0|   7.25|\n",
      "|       1|     1|Mrs. John Bradley...|female| 38|                      1|                      0|71.2833|\n",
      "|       1|     3|Miss. Laina Heikk...|female| 26|                      0|                      0|  7.925|\n",
      "|       1|     1|Mrs. Jacques Heat...|female| 35|                      1|                      0|   53.1|\n",
      "|       0|     3|Mr. William Henry...|  male| 35|                      0|                      0|   8.05|\n",
      "+--------+------+--------------------+------+---+-----------------------+-----------------------+-------+\n",
      "only showing top 5 rows\n",
      "\n"
     ]
    }
   ],
   "source": [
    "df = spark.read.format(\"CSV\").option(\"header\", \"true\").load(\"titanic.csv\")\n",
    "\n",
    "df = df.withColumn(\"Survived\",df[\"Survived\"].cast(IntegerType())) \\\n",
    "    .withColumn(\"PClass\",df[\"PClass\"].cast(IntegerType())) \\\n",
    "    .withColumn(\"Name\",df[\"Name\"].cast(StringType())) \\\n",
    "    .withColumn(\"Sex\",df[\"Sex\"].cast(StringType())) \\\n",
    "    .withColumn(\"Age\",df[\"Age\"].cast(StringType())) \\\n",
    "    .withColumn(\"Siblings/Spouses Aboard\",df[\"Siblings/Spouses Aboard\"].cast(IntegerType())) \\\n",
    "    .withColumn(\"Parents/Children Aboard\",df[\"Parents/Children Aboard\"].cast(IntegerType())) \\\n",
    "    .withColumn(\"Fare\",df[\"Fare\"].cast(FloatType())) \n",
    "\n",
    "df.show(5)"
   ]
  },
  {
   "cell_type": "markdown",
   "id": "fad15cee-9f3a-4ce7-af1a-5f7e9d813300",
   "metadata": {},
   "source": [
    "assignment part A <br>\n",
    "calculating the condi. probablity that a person survives given their sex & passenger class"
   ]
  },
  {
   "cell_type": "code",
   "execution_count": 6,
   "id": "d04b5e53-cadd-4e74-a483-81ab90c70088",
   "metadata": {},
   "outputs": [
    {
     "name": "stdout",
     "output_type": "stream",
     "text": [
      "+------+------+-------------------+\n",
      "|   Sex|PClass|probablity survived|\n",
      "+------+------+-------------------+\n",
      "|  male|     3|0.13702623906705538|\n",
      "|female|     3|                0.5|\n",
      "|female|     1| 0.9680851063829787|\n",
      "|female|     2| 0.9210526315789473|\n",
      "|  male|     2| 0.1574074074074074|\n",
      "|  male|     1|0.36885245901639346|\n",
      "+------+------+-------------------+\n",
      "\n"
     ]
    }
   ],
   "source": [
    "df1 = df.select(\"Survived\", \"PClass\", \"Sex\")\n",
    "df_SurvivedPeople_SexnPassClass = df1.groupBy(\"Sex\", \"PClass\") \\\n",
    "                                     .avg(\"Survived\") \\\n",
    "                                     .toDF(\"Sex\", \"PClass\", \"probablity survived\")\n",
    "df_SurvivedPeople_SexnPassClass.show()"
   ]
  },
  {
   "cell_type": "markdown",
   "id": "12344497-2ccb-4dad-931d-1bdf33477fcf",
   "metadata": {},
   "source": [
    "assignment part C<br>\n",
    "calculating the expectation of fare conditioned on passenger class:"
   ]
  },
  {
   "cell_type": "code",
   "execution_count": 8,
   "id": "ba2897a8-6d4e-4300-8f38-3125236b179f",
   "metadata": {},
   "outputs": [
    {
     "name": "stdout",
     "output_type": "stream",
     "text": [
      "+------+------------------+\n",
      "|PClass|    Fare paid(avg)|\n",
      "+------+------------------+\n",
      "|     1| 84.15468752825701|\n",
      "|     3|13.707707501045244|\n",
      "|     2| 20.66218318109927|\n",
      "+------+------------------+\n",
      "\n"
     ]
    }
   ],
   "source": [
    "df3=df.select(\"PClass\", \"Fare\")\n",
    "df_FareCondi_PassClass = df3.groupBy(\"PClass\") \\\n",
    "                            .avg(\"Fare\") \\\n",
    "                            .toDF(\"PClass\", \"Fare paid(avg)\")\n",
    "df_FareCondi_PassClass.show()"
   ]
  }
 ],
 "metadata": {
  "kernelspec": {
   "display_name": "Python 3",
   "language": "python",
   "name": "python3"
  },
  "language_info": {
   "codemirror_mode": {
    "name": "ipython",
    "version": 3
   },
   "file_extension": ".py",
   "mimetype": "text/x-python",
   "name": "python",
   "nbconvert_exporter": "python",
   "pygments_lexer": "ipython3",
   "version": "3.8.8"
  }
 },
 "nbformat": 4,
 "nbformat_minor": 5
}
